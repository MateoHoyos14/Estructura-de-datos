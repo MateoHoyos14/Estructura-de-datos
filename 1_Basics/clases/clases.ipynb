{
 "cells": [
  {
   "cell_type": "code",
   "execution_count": 60,
   "metadata": {},
   "outputs": [],
   "source": [
    "class JobPosting:\n",
    "    \n",
    "    def  __init__(self, title, company, location, salary):\n",
    "        \n",
    "        #Atributes, not methods\n",
    "        self.title = title;\n",
    "        self.company = company;\n",
    "        self.location = location;\n",
    "        self.salary = salary;\n",
    "        \n",
    "    def to_dict(self):\n",
    "        \n",
    "        return  {\n",
    "            'title':self.title,\n",
    "            'company':self.company,\n",
    "            'location':self.location,\n",
    "            'salary': self.salary\n",
    "            \n",
    "            \n",
    "            \n",
    "            }\n",
    "        \n",
    "    def compare_salary (self, job2):\n",
    "        \n",
    "        if self.salary > job2.salary:\n",
    "            return f'{self.title}, has a higher salary than {job2.title}'\n",
    "        elif self.salary < job2.salary:\n",
    "            return f'{job2.title}, has a higher salary than {self.title}'\n",
    "        else:\n",
    "            return f\"{self.title} and {job2.title}, have the same salary\"\n",
    "        \n",
    "        \n",
    "        \n",
    "    #With this method, we can see the atributes of the object\n",
    "    # def __repr__(self):\n",
    "    #     return f\"{self.title}, {self.company}, {self.location}, {self.salary}\"\n"
   ]
  },
  {
   "cell_type": "code",
   "execution_count": 63,
   "metadata": {},
   "outputs": [
    {
     "data": {
      "text/plain": [
       "{'title': 'Data Analyst',\n",
       " 'company': 'Data Driven Co',\n",
       " 'location': 'San Francisco',\n",
       " 'salary': 100000}"
      ]
     },
     "execution_count": 63,
     "metadata": {},
     "output_type": "execute_result"
    }
   ],
   "source": [
    "#Instance of an object\n",
    "job1 = JobPosting('Data Scientist', 'Tech Innovations', 'New York', 120000)\n",
    "job2 = JobPosting('Data Analyst', 'Data Driven Co', 'San Francisco', 100000)\n",
    "\n",
    "job1.compare_salary(job2)\n",
    "\n",
    "job2.to_dict()"
   ]
  }
 ],
 "metadata": {
  "kernelspec": {
   "display_name": "Python 3",
   "language": "python",
   "name": "python3"
  },
  "language_info": {
   "codemirror_mode": {
    "name": "ipython",
    "version": 3
   },
   "file_extension": ".py",
   "mimetype": "text/x-python",
   "name": "python",
   "nbconvert_exporter": "python",
   "pygments_lexer": "ipython3",
   "version": "3.12.5"
  }
 },
 "nbformat": 4,
 "nbformat_minor": 2
}
